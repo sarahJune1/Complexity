{
 "cells": [
  {
   "cell_type": "code",
   "execution_count": 11,
   "metadata": {},
   "outputs": [],
   "source": [
    "import pandas as pd\n",
    "import numpy as np\n",
    "from fractions import Fraction"
   ]
  },
  {
   "cell_type": "markdown",
   "metadata": {},
   "source": [
    "# What is the curve length of the Koch Curve at each step interval?"
   ]
  },
  {
   "cell_type": "markdown",
   "metadata": {},
   "source": [
    "### Rule of Koch Curve: \n",
    "\n",
    "Take the segment, remove the middle third. \n",
    "\n",
    "Replace the removed segment with a new segment at 1/3 degree angle and length \n"
   ]
  },
  {
   "cell_type": "code",
   "execution_count": 131,
   "metadata": {},
   "outputs": [],
   "source": [
    "L = 1"
   ]
  },
  {
   "cell_type": "code",
   "execution_count": 123,
   "metadata": {},
   "outputs": [],
   "source": [
    "def input_segs(iteration):\n",
    "    \"\"\"\n",
    "    Input parameters for segment of Koch Curve:\n",
    "        At each iteration:\n",
    "        \n",
    "            num_seg = Number of segments to count\n",
    "                Segment L is multiplied by 4 because of rule, where 1 segment is now considered 4 segments\n",
    "                Exponentially grow by the iteartion step\n",
    "                \n",
    "            seg_len = Length of each segment\n",
    "                Length of each num_seg is 1/3 of original\n",
    "                \n",
    "    \"\"\"\n",
    "    num_segs = 4**iteration\n",
    "    seg_len = 3**iteration\n",
    "    return num_segs, seg_len\n",
    "\n",
    "\n",
    "def KochCurveLength(L, iteration):\n",
    "    \"\"\"\n",
    "    L = Segment Length\n",
    "    Count number of Segments at each interval following the rule\n",
    "    Output curve length \n",
    "    \"\"\"\n",
    "    print(f\"Iteration #{iteration}\")\n",
    "    num_segs, seg_len = input_segs(iteration)\n",
    "    print(f\"Number of Segments: {num_segs}\")\n",
    "    print(f\"Length of Segments: {seg_len}\")\n",
    "    \n",
    "    L = L * (num_segs/seg_len)\n",
    "    \n",
    "    return print(f\"Curve Length: {Fraction(L).limit_denominator()}\")"
   ]
  },
  {
   "cell_type": "code",
   "execution_count": 132,
   "metadata": {},
   "outputs": [
    {
     "name": "stdout",
     "output_type": "stream",
     "text": [
      "Iteration #0\n",
      "Number of Segments: 1\n",
      "Length of Segments: 1\n",
      "Curve Length: 1\n"
     ]
    }
   ],
   "source": [
    "KochCurveLength(L,0)"
   ]
  },
  {
   "cell_type": "code",
   "execution_count": 133,
   "metadata": {},
   "outputs": [
    {
     "name": "stdout",
     "output_type": "stream",
     "text": [
      "Iteration #1\n",
      "Number of Segments: 4\n",
      "Length of Segments: 3\n",
      "Curve Length: 4/3\n"
     ]
    }
   ],
   "source": [
    "KochCurveLength(L,1)"
   ]
  },
  {
   "cell_type": "code",
   "execution_count": 136,
   "metadata": {},
   "outputs": [
    {
     "name": "stdout",
     "output_type": "stream",
     "text": [
      "Iteration #0\n",
      "Number of Segments: 1\n",
      "Length of Segments: 1\n",
      "Curve Length: 1\n",
      "\n",
      "Iteration #1\n",
      "Number of Segments: 4\n",
      "Length of Segments: 3\n",
      "Curve Length: 4/3\n",
      "\n",
      "Iteration #2\n",
      "Number of Segments: 16\n",
      "Length of Segments: 9\n",
      "Curve Length: 16/9\n",
      "\n",
      "Iteration #3\n",
      "Number of Segments: 64\n",
      "Length of Segments: 27\n",
      "Curve Length: 64/27\n",
      "\n",
      "Iteration #4\n",
      "Number of Segments: 256\n",
      "Length of Segments: 81\n",
      "Curve Length: 256/81\n",
      "\n",
      "Iteration #5\n",
      "Number of Segments: 1024\n",
      "Length of Segments: 243\n",
      "Curve Length: 1024/243\n",
      "\n",
      "Iteration #6\n",
      "Number of Segments: 4096\n",
      "Length of Segments: 729\n",
      "Curve Length: 4096/729\n",
      "\n",
      "Iteration #7\n",
      "Number of Segments: 16384\n",
      "Length of Segments: 2187\n",
      "Curve Length: 16384/2187\n",
      "\n",
      "Iteration #8\n",
      "Number of Segments: 65536\n",
      "Length of Segments: 6561\n",
      "Curve Length: 65536/6561\n",
      "\n",
      "Iteration #9\n",
      "Number of Segments: 262144\n",
      "Length of Segments: 19683\n",
      "Curve Length: 262144/19683\n",
      "\n"
     ]
    }
   ],
   "source": [
    "for i in range(10):\n",
    "    KochCurveLength(L,i)\n",
    "    print(\"\")\n",
    "    "
   ]
  },
  {
   "cell_type": "code",
   "execution_count": 134,
   "metadata": {},
   "outputs": [
    {
     "name": "stdout",
     "output_type": "stream",
     "text": [
      "Iteration #22\n",
      "Number of Segments: 17592186044416\n",
      "Length of Segments: 31381059609\n",
      "Curve Length: 498730043/889638\n"
     ]
    }
   ],
   "source": [
    "KochCurveLength(L,22)"
   ]
  },
  {
   "cell_type": "code",
   "execution_count": null,
   "metadata": {},
   "outputs": [],
   "source": []
  }
 ],
 "metadata": {
  "kernelspec": {
   "display_name": "Python 3",
   "language": "python",
   "name": "python3"
  },
  "language_info": {
   "codemirror_mode": {
    "name": "ipython",
    "version": 3
   },
   "file_extension": ".py",
   "mimetype": "text/x-python",
   "name": "python",
   "nbconvert_exporter": "python",
   "pygments_lexer": "ipython3",
   "version": "3.7.4"
  }
 },
 "nbformat": 4,
 "nbformat_minor": 2
}
